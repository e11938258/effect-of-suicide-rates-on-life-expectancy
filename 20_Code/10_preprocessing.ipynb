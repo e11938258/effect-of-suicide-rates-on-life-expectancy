{
 "cells": [
  {
   "cell_type": "markdown",
   "id": "b81df8da",
   "metadata": {},
   "source": [
    "## Preprocessing\n",
    "Experiment: Effect of suicide rates on life expectancy"
   ]
  },
  {
   "cell_type": "markdown",
   "id": "a4553cb0",
   "metadata": {},
   "source": [
    "### Environment Setup"
   ]
  },
  {
   "cell_type": "code",
   "execution_count": 1,
   "id": "75171d62",
   "metadata": {},
   "outputs": [],
   "source": [
    "import pandas as pd\n",
    "import numpy as np"
   ]
  },
  {
   "cell_type": "code",
   "execution_count": 2,
   "id": "6ee8b6ed",
   "metadata": {},
   "outputs": [],
   "source": [
    "LIFE_EXPECTANCY_DATA = \"../10_Data/10_life_expectancy_v00_orig.csv\"\n",
    "WHO_SUICIDE_DATA = \"../10_Data/20_suicide_rates_v00_orig.csv\""
   ]
  },
  {
   "cell_type": "markdown",
   "id": "0d61643f",
   "metadata": {},
   "source": [
    "### Dataset loading and basic preprocessing"
   ]
  },
  {
   "cell_type": "markdown",
   "id": "c03ad00e",
   "metadata": {},
   "source": [
    "#### 1. Loading Life Expectancy dataset"
   ]
  },
  {
   "cell_type": "code",
   "execution_count": 3,
   "id": "8bdb32d0",
   "metadata": {},
   "outputs": [
    {
     "data": {
      "text/plain": [
       "Index(['Country', 'Year', 'Status', 'Life expectancy ', 'Adult Mortality',\n",
       "       'infant deaths', 'Alcohol', 'percentage expenditure', 'Hepatitis B',\n",
       "       'Measles ', ' BMI ', 'under-five deaths ', 'Polio', 'Total expenditure',\n",
       "       'Diphtheria ', ' HIV/AIDS', 'GDP', 'Population',\n",
       "       ' thinness  1-19 years', ' thinness 5-9 years',\n",
       "       'Income composition of resources', 'Schooling'],\n",
       "      dtype='object')"
      ]
     },
     "execution_count": 3,
     "metadata": {},
     "output_type": "execute_result"
    }
   ],
   "source": [
    "lifeExpDf = pd.read_csv(LIFE_EXPECTANCY_DATA)\n",
    "lifeExpDf.columns"
   ]
  },
  {
   "cell_type": "markdown",
   "id": "21c467fb",
   "metadata": {},
   "source": [
    "Choose only variables which are interesting for the experiment, rename variables, change type of year and set index."
   ]
  },
  {
   "cell_type": "code",
   "execution_count": 4,
   "id": "101517ec",
   "metadata": {
    "tags": []
   },
   "outputs": [],
   "source": [
    "lifeExpDf = lifeExpDf[['Country', 'Year', 'Life expectancy ', 'Adult Mortality', 'infant deaths', 'Alcohol', 'under-five deaths ', ' HIV/AIDS', 'GDP', 'Population', 'Income composition of resources', 'Schooling']]\n",
    "lifeExpDf = lifeExpDf.rename(columns={'Life expectancy ': 'Life expectancy', 'infant deaths': 'Infant deaths', 'under-five deaths ': 'Under-five deaths', ' HIV/AIDS': 'HIV/AIDS'})\n",
    "lifeExpDf = lifeExpDf.astype({'Year':'str'})\n",
    "lifeExpDf = lifeExpDf.set_index(['Country', 'Year'])"
   ]
  },
  {
   "cell_type": "code",
   "execution_count": 5,
   "id": "6ca4a0b4",
   "metadata": {},
   "outputs": [
    {
     "data": {
      "text/html": [
       "<div>\n",
       "<style scoped>\n",
       "    .dataframe tbody tr th:only-of-type {\n",
       "        vertical-align: middle;\n",
       "    }\n",
       "\n",
       "    .dataframe tbody tr th {\n",
       "        vertical-align: top;\n",
       "    }\n",
       "\n",
       "    .dataframe thead th {\n",
       "        text-align: right;\n",
       "    }\n",
       "</style>\n",
       "<table border=\"1\" class=\"dataframe\">\n",
       "  <thead>\n",
       "    <tr style=\"text-align: right;\">\n",
       "      <th></th>\n",
       "      <th></th>\n",
       "      <th>Life expectancy</th>\n",
       "      <th>Adult Mortality</th>\n",
       "      <th>Infant deaths</th>\n",
       "      <th>Alcohol</th>\n",
       "      <th>Under-five deaths</th>\n",
       "      <th>HIV/AIDS</th>\n",
       "      <th>GDP</th>\n",
       "      <th>Population</th>\n",
       "      <th>Income composition of resources</th>\n",
       "      <th>Schooling</th>\n",
       "    </tr>\n",
       "    <tr>\n",
       "      <th>Country</th>\n",
       "      <th>Year</th>\n",
       "      <th></th>\n",
       "      <th></th>\n",
       "      <th></th>\n",
       "      <th></th>\n",
       "      <th></th>\n",
       "      <th></th>\n",
       "      <th></th>\n",
       "      <th></th>\n",
       "      <th></th>\n",
       "      <th></th>\n",
       "    </tr>\n",
       "  </thead>\n",
       "  <tbody>\n",
       "    <tr>\n",
       "      <th rowspan=\"5\" valign=\"top\">Afghanistan</th>\n",
       "      <th>2015</th>\n",
       "      <td>65.0</td>\n",
       "      <td>263.0</td>\n",
       "      <td>62</td>\n",
       "      <td>0.01</td>\n",
       "      <td>83</td>\n",
       "      <td>0.1</td>\n",
       "      <td>584.259210</td>\n",
       "      <td>33736494.0</td>\n",
       "      <td>0.479</td>\n",
       "      <td>10.1</td>\n",
       "    </tr>\n",
       "    <tr>\n",
       "      <th>2014</th>\n",
       "      <td>59.9</td>\n",
       "      <td>271.0</td>\n",
       "      <td>64</td>\n",
       "      <td>0.01</td>\n",
       "      <td>86</td>\n",
       "      <td>0.1</td>\n",
       "      <td>612.696514</td>\n",
       "      <td>327582.0</td>\n",
       "      <td>0.476</td>\n",
       "      <td>10.0</td>\n",
       "    </tr>\n",
       "    <tr>\n",
       "      <th>2013</th>\n",
       "      <td>59.9</td>\n",
       "      <td>268.0</td>\n",
       "      <td>66</td>\n",
       "      <td>0.01</td>\n",
       "      <td>89</td>\n",
       "      <td>0.1</td>\n",
       "      <td>631.744976</td>\n",
       "      <td>31731688.0</td>\n",
       "      <td>0.470</td>\n",
       "      <td>9.9</td>\n",
       "    </tr>\n",
       "    <tr>\n",
       "      <th>2012</th>\n",
       "      <td>59.5</td>\n",
       "      <td>272.0</td>\n",
       "      <td>69</td>\n",
       "      <td>0.01</td>\n",
       "      <td>93</td>\n",
       "      <td>0.1</td>\n",
       "      <td>669.959000</td>\n",
       "      <td>3696958.0</td>\n",
       "      <td>0.463</td>\n",
       "      <td>9.8</td>\n",
       "    </tr>\n",
       "    <tr>\n",
       "      <th>2011</th>\n",
       "      <td>59.2</td>\n",
       "      <td>275.0</td>\n",
       "      <td>71</td>\n",
       "      <td>0.01</td>\n",
       "      <td>97</td>\n",
       "      <td>0.1</td>\n",
       "      <td>63.537231</td>\n",
       "      <td>2978599.0</td>\n",
       "      <td>0.454</td>\n",
       "      <td>9.5</td>\n",
       "    </tr>\n",
       "  </tbody>\n",
       "</table>\n",
       "</div>"
      ],
      "text/plain": [
       "                  Life expectancy  Adult Mortality  Infant deaths  Alcohol  \\\n",
       "Country     Year                                                             \n",
       "Afghanistan 2015             65.0            263.0             62     0.01   \n",
       "            2014             59.9            271.0             64     0.01   \n",
       "            2013             59.9            268.0             66     0.01   \n",
       "            2012             59.5            272.0             69     0.01   \n",
       "            2011             59.2            275.0             71     0.01   \n",
       "\n",
       "                  Under-five deaths  HIV/AIDS         GDP  Population  \\\n",
       "Country     Year                                                        \n",
       "Afghanistan 2015                 83       0.1  584.259210  33736494.0   \n",
       "            2014                 86       0.1  612.696514    327582.0   \n",
       "            2013                 89       0.1  631.744976  31731688.0   \n",
       "            2012                 93       0.1  669.959000   3696958.0   \n",
       "            2011                 97       0.1   63.537231   2978599.0   \n",
       "\n",
       "                  Income composition of resources  Schooling  \n",
       "Country     Year                                              \n",
       "Afghanistan 2015                            0.479       10.1  \n",
       "            2014                            0.476       10.0  \n",
       "            2013                            0.470        9.9  \n",
       "            2012                            0.463        9.8  \n",
       "            2011                            0.454        9.5  "
      ]
     },
     "execution_count": 5,
     "metadata": {},
     "output_type": "execute_result"
    }
   ],
   "source": [
    "lifeExpDf.head()"
   ]
  },
  {
   "cell_type": "code",
   "execution_count": 6,
   "id": "41ba19f6",
   "metadata": {},
   "outputs": [
    {
     "data": {
      "text/plain": [
       "Life expectancy                    float64\n",
       "Adult Mortality                    float64\n",
       "Infant deaths                        int64\n",
       "Alcohol                            float64\n",
       "Under-five deaths                    int64\n",
       "HIV/AIDS                           float64\n",
       "GDP                                float64\n",
       "Population                         float64\n",
       "Income composition of resources    float64\n",
       "Schooling                          float64\n",
       "dtype: object"
      ]
     },
     "execution_count": 6,
     "metadata": {},
     "output_type": "execute_result"
    }
   ],
   "source": [
    "lifeExpDf.dtypes"
   ]
  },
  {
   "cell_type": "code",
   "execution_count": 7,
   "id": "4d0f3ec6",
   "metadata": {},
   "outputs": [
    {
     "data": {
      "text/plain": [
       "(2938, 10)"
      ]
     },
     "execution_count": 7,
     "metadata": {},
     "output_type": "execute_result"
    }
   ],
   "source": [
    "lifeExpDf.shape"
   ]
  },
  {
   "cell_type": "code",
   "execution_count": 8,
   "id": "40768122",
   "metadata": {},
   "outputs": [],
   "source": [
    "# Export final dataset\n",
    "lifeExpDf.to_csv('../10_Data/10_life_expectancy_v01_clean.csv', index = True)"
   ]
  },
  {
   "cell_type": "markdown",
   "id": "2a0e120c",
   "metadata": {},
   "source": [
    "#### 2. Loading Suicide dataset"
   ]
  },
  {
   "cell_type": "code",
   "execution_count": 9,
   "id": "2c3f132d",
   "metadata": {},
   "outputs": [
    {
     "data": {
      "text/html": [
       "<div>\n",
       "<style scoped>\n",
       "    .dataframe tbody tr th:only-of-type {\n",
       "        vertical-align: middle;\n",
       "    }\n",
       "\n",
       "    .dataframe tbody tr th {\n",
       "        vertical-align: top;\n",
       "    }\n",
       "\n",
       "    .dataframe thead th {\n",
       "        text-align: right;\n",
       "    }\n",
       "</style>\n",
       "<table border=\"1\" class=\"dataframe\">\n",
       "  <thead>\n",
       "    <tr style=\"text-align: right;\">\n",
       "      <th></th>\n",
       "      <th>country</th>\n",
       "      <th>year</th>\n",
       "      <th>sex</th>\n",
       "      <th>age</th>\n",
       "      <th>suicides_no</th>\n",
       "      <th>population</th>\n",
       "    </tr>\n",
       "  </thead>\n",
       "  <tbody>\n",
       "    <tr>\n",
       "      <th>0</th>\n",
       "      <td>Albania</td>\n",
       "      <td>1985</td>\n",
       "      <td>female</td>\n",
       "      <td>15-24 years</td>\n",
       "      <td>NaN</td>\n",
       "      <td>277900.0</td>\n",
       "    </tr>\n",
       "    <tr>\n",
       "      <th>1</th>\n",
       "      <td>Albania</td>\n",
       "      <td>1985</td>\n",
       "      <td>female</td>\n",
       "      <td>25-34 years</td>\n",
       "      <td>NaN</td>\n",
       "      <td>246800.0</td>\n",
       "    </tr>\n",
       "    <tr>\n",
       "      <th>2</th>\n",
       "      <td>Albania</td>\n",
       "      <td>1985</td>\n",
       "      <td>female</td>\n",
       "      <td>35-54 years</td>\n",
       "      <td>NaN</td>\n",
       "      <td>267500.0</td>\n",
       "    </tr>\n",
       "    <tr>\n",
       "      <th>3</th>\n",
       "      <td>Albania</td>\n",
       "      <td>1985</td>\n",
       "      <td>female</td>\n",
       "      <td>5-14 years</td>\n",
       "      <td>NaN</td>\n",
       "      <td>298300.0</td>\n",
       "    </tr>\n",
       "    <tr>\n",
       "      <th>4</th>\n",
       "      <td>Albania</td>\n",
       "      <td>1985</td>\n",
       "      <td>female</td>\n",
       "      <td>55-74 years</td>\n",
       "      <td>NaN</td>\n",
       "      <td>138700.0</td>\n",
       "    </tr>\n",
       "  </tbody>\n",
       "</table>\n",
       "</div>"
      ],
      "text/plain": [
       "   country  year     sex          age  suicides_no  population\n",
       "0  Albania  1985  female  15-24 years          NaN    277900.0\n",
       "1  Albania  1985  female  25-34 years          NaN    246800.0\n",
       "2  Albania  1985  female  35-54 years          NaN    267500.0\n",
       "3  Albania  1985  female   5-14 years          NaN    298300.0\n",
       "4  Albania  1985  female  55-74 years          NaN    138700.0"
      ]
     },
     "execution_count": 9,
     "metadata": {},
     "output_type": "execute_result"
    }
   ],
   "source": [
    "suicideDf = pd.read_csv(WHO_SUICIDE_DATA)\n",
    "suicideDf.head()"
   ]
  },
  {
   "cell_type": "markdown",
   "id": "58ef5fb5",
   "metadata": {},
   "source": [
    "Drop the sex and age columns, rename varriables, change type of the year variable and set index."
   ]
  },
  {
   "cell_type": "code",
   "execution_count": 10,
   "id": "6e642866",
   "metadata": {},
   "outputs": [
    {
     "data": {
      "text/html": [
       "<div>\n",
       "<style scoped>\n",
       "    .dataframe tbody tr th:only-of-type {\n",
       "        vertical-align: middle;\n",
       "    }\n",
       "\n",
       "    .dataframe tbody tr th {\n",
       "        vertical-align: top;\n",
       "    }\n",
       "\n",
       "    .dataframe thead th {\n",
       "        text-align: right;\n",
       "    }\n",
       "</style>\n",
       "<table border=\"1\" class=\"dataframe\">\n",
       "  <thead>\n",
       "    <tr style=\"text-align: right;\">\n",
       "      <th></th>\n",
       "      <th></th>\n",
       "      <th>Suicides number</th>\n",
       "      <th>Population2</th>\n",
       "    </tr>\n",
       "    <tr>\n",
       "      <th>Country</th>\n",
       "      <th>Year</th>\n",
       "      <th></th>\n",
       "      <th></th>\n",
       "    </tr>\n",
       "  </thead>\n",
       "  <tbody>\n",
       "    <tr>\n",
       "      <th rowspan=\"5\" valign=\"top\">Albania</th>\n",
       "      <th>1985</th>\n",
       "      <td>NaN</td>\n",
       "      <td>277900.0</td>\n",
       "    </tr>\n",
       "    <tr>\n",
       "      <th>1985</th>\n",
       "      <td>NaN</td>\n",
       "      <td>246800.0</td>\n",
       "    </tr>\n",
       "    <tr>\n",
       "      <th>1985</th>\n",
       "      <td>NaN</td>\n",
       "      <td>267500.0</td>\n",
       "    </tr>\n",
       "    <tr>\n",
       "      <th>1985</th>\n",
       "      <td>NaN</td>\n",
       "      <td>298300.0</td>\n",
       "    </tr>\n",
       "    <tr>\n",
       "      <th>1985</th>\n",
       "      <td>NaN</td>\n",
       "      <td>138700.0</td>\n",
       "    </tr>\n",
       "  </tbody>\n",
       "</table>\n",
       "</div>"
      ],
      "text/plain": [
       "              Suicides number  Population2\n",
       "Country Year                              \n",
       "Albania 1985              NaN     277900.0\n",
       "        1985              NaN     246800.0\n",
       "        1985              NaN     267500.0\n",
       "        1985              NaN     298300.0\n",
       "        1985              NaN     138700.0"
      ]
     },
     "execution_count": 10,
     "metadata": {},
     "output_type": "execute_result"
    }
   ],
   "source": [
    "suicideDf = suicideDf.drop(columns=['sex', 'age'])\n",
    "suicideDf = suicideDf.rename(columns={'country': 'Country', 'year': 'Year', 'suicides_no': 'Suicides number', 'population': 'Population2'})\n",
    "suicideDf = suicideDf.astype({'Year':'str'})\n",
    "suicideDf = suicideDf.set_index(['Country', 'Year'])\n",
    "suicideDf.head()"
   ]
  },
  {
   "cell_type": "markdown",
   "id": "77e16191",
   "metadata": {},
   "source": [
    "Drop NA if in the Suicides number variable."
   ]
  },
  {
   "cell_type": "code",
   "execution_count": 11,
   "id": "3e349607",
   "metadata": {},
   "outputs": [],
   "source": [
    "suicideDf = suicideDf.dropna(subset = ['Suicides number'])"
   ]
  },
  {
   "cell_type": "markdown",
   "id": "7fb85a81",
   "metadata": {},
   "source": [
    "Group suicides number by country and year."
   ]
  },
  {
   "cell_type": "code",
   "execution_count": 12,
   "id": "11ed64c6",
   "metadata": {},
   "outputs": [],
   "source": [
    "suicideDf = suicideDf.groupby(by = [\"Country\", \"Year\"]).sum()"
   ]
  },
  {
   "cell_type": "code",
   "execution_count": 13,
   "id": "6bf83651",
   "metadata": {},
   "outputs": [
    {
     "data": {
      "text/html": [
       "<div>\n",
       "<style scoped>\n",
       "    .dataframe tbody tr th:only-of-type {\n",
       "        vertical-align: middle;\n",
       "    }\n",
       "\n",
       "    .dataframe tbody tr th {\n",
       "        vertical-align: top;\n",
       "    }\n",
       "\n",
       "    .dataframe thead th {\n",
       "        text-align: right;\n",
       "    }\n",
       "</style>\n",
       "<table border=\"1\" class=\"dataframe\">\n",
       "  <thead>\n",
       "    <tr style=\"text-align: right;\">\n",
       "      <th></th>\n",
       "      <th></th>\n",
       "      <th>Suicides number</th>\n",
       "      <th>Population2</th>\n",
       "    </tr>\n",
       "    <tr>\n",
       "      <th>Country</th>\n",
       "      <th>Year</th>\n",
       "      <th></th>\n",
       "      <th></th>\n",
       "    </tr>\n",
       "  </thead>\n",
       "  <tbody>\n",
       "    <tr>\n",
       "      <th rowspan=\"5\" valign=\"top\">Albania</th>\n",
       "      <th>1987</th>\n",
       "      <td>73.0</td>\n",
       "      <td>2709600.0</td>\n",
       "    </tr>\n",
       "    <tr>\n",
       "      <th>1988</th>\n",
       "      <td>63.0</td>\n",
       "      <td>2764300.0</td>\n",
       "    </tr>\n",
       "    <tr>\n",
       "      <th>1989</th>\n",
       "      <td>68.0</td>\n",
       "      <td>2803100.0</td>\n",
       "    </tr>\n",
       "    <tr>\n",
       "      <th>1992</th>\n",
       "      <td>47.0</td>\n",
       "      <td>2822500.0</td>\n",
       "    </tr>\n",
       "    <tr>\n",
       "      <th>1993</th>\n",
       "      <td>73.0</td>\n",
       "      <td>2807300.0</td>\n",
       "    </tr>\n",
       "  </tbody>\n",
       "</table>\n",
       "</div>"
      ],
      "text/plain": [
       "              Suicides number  Population2\n",
       "Country Year                              \n",
       "Albania 1987             73.0    2709600.0\n",
       "        1988             63.0    2764300.0\n",
       "        1989             68.0    2803100.0\n",
       "        1992             47.0    2822500.0\n",
       "        1993             73.0    2807300.0"
      ]
     },
     "execution_count": 13,
     "metadata": {},
     "output_type": "execute_result"
    }
   ],
   "source": [
    "suicideDf.head()"
   ]
  },
  {
   "cell_type": "code",
   "execution_count": 14,
   "id": "5d197dd5",
   "metadata": {},
   "outputs": [
    {
     "data": {
      "text/plain": [
       "Suicides number    float64\n",
       "Population2        float64\n",
       "dtype: object"
      ]
     },
     "execution_count": 14,
     "metadata": {},
     "output_type": "execute_result"
    }
   ],
   "source": [
    "suicideDf.dtypes"
   ]
  },
  {
   "cell_type": "code",
   "execution_count": 15,
   "id": "beca3df4",
   "metadata": {},
   "outputs": [
    {
     "data": {
      "text/plain": [
       "(3460, 2)"
      ]
     },
     "execution_count": 15,
     "metadata": {},
     "output_type": "execute_result"
    }
   ],
   "source": [
    "suicideDf.shape"
   ]
  },
  {
   "cell_type": "code",
   "execution_count": 16,
   "id": "74729218",
   "metadata": {},
   "outputs": [],
   "source": [
    "# Export final dataset\n",
    "suicideDf.to_csv('../10_Data/20_suicide_rates_v01_clean.csv', index = True)"
   ]
  },
  {
   "cell_type": "markdown",
   "id": "f91e4eba",
   "metadata": {},
   "source": [
    "#### Merge datasets"
   ]
  },
  {
   "cell_type": "code",
   "execution_count": 17,
   "id": "0919762d",
   "metadata": {},
   "outputs": [
    {
     "data": {
      "text/html": [
       "<div>\n",
       "<style scoped>\n",
       "    .dataframe tbody tr th:only-of-type {\n",
       "        vertical-align: middle;\n",
       "    }\n",
       "\n",
       "    .dataframe tbody tr th {\n",
       "        vertical-align: top;\n",
       "    }\n",
       "\n",
       "    .dataframe thead th {\n",
       "        text-align: right;\n",
       "    }\n",
       "</style>\n",
       "<table border=\"1\" class=\"dataframe\">\n",
       "  <thead>\n",
       "    <tr style=\"text-align: right;\">\n",
       "      <th></th>\n",
       "      <th></th>\n",
       "      <th>Suicides number</th>\n",
       "      <th>Population2</th>\n",
       "      <th>Life expectancy</th>\n",
       "      <th>Adult Mortality</th>\n",
       "      <th>Infant deaths</th>\n",
       "      <th>Alcohol</th>\n",
       "      <th>Under-five deaths</th>\n",
       "      <th>HIV/AIDS</th>\n",
       "      <th>GDP</th>\n",
       "      <th>Population</th>\n",
       "      <th>Income composition of resources</th>\n",
       "      <th>Schooling</th>\n",
       "    </tr>\n",
       "    <tr>\n",
       "      <th>Country</th>\n",
       "      <th>Year</th>\n",
       "      <th></th>\n",
       "      <th></th>\n",
       "      <th></th>\n",
       "      <th></th>\n",
       "      <th></th>\n",
       "      <th></th>\n",
       "      <th></th>\n",
       "      <th></th>\n",
       "      <th></th>\n",
       "      <th></th>\n",
       "      <th></th>\n",
       "      <th></th>\n",
       "    </tr>\n",
       "  </thead>\n",
       "  <tbody>\n",
       "    <tr>\n",
       "      <th rowspan=\"5\" valign=\"top\">Albania</th>\n",
       "      <th>2000</th>\n",
       "      <td>54.0</td>\n",
       "      <td>2796300.0</td>\n",
       "      <td>72.6</td>\n",
       "      <td>11.0</td>\n",
       "      <td>1</td>\n",
       "      <td>3.66</td>\n",
       "      <td>1</td>\n",
       "      <td>0.1</td>\n",
       "      <td>1175.788981</td>\n",
       "      <td>38927.0</td>\n",
       "      <td>0.656</td>\n",
       "      <td>10.7</td>\n",
       "    </tr>\n",
       "    <tr>\n",
       "      <th>2001</th>\n",
       "      <td>119.0</td>\n",
       "      <td>2799349.0</td>\n",
       "      <td>73.6</td>\n",
       "      <td>14.0</td>\n",
       "      <td>1</td>\n",
       "      <td>4.25</td>\n",
       "      <td>1</td>\n",
       "      <td>0.1</td>\n",
       "      <td>1326.973390</td>\n",
       "      <td>36173.0</td>\n",
       "      <td>0.662</td>\n",
       "      <td>10.6</td>\n",
       "    </tr>\n",
       "    <tr>\n",
       "      <th>2002</th>\n",
       "      <td>133.0</td>\n",
       "      <td>2818839.0</td>\n",
       "      <td>73.3</td>\n",
       "      <td>15.0</td>\n",
       "      <td>1</td>\n",
       "      <td>3.73</td>\n",
       "      <td>1</td>\n",
       "      <td>0.1</td>\n",
       "      <td>1453.642777</td>\n",
       "      <td>3511.0</td>\n",
       "      <td>0.670</td>\n",
       "      <td>10.7</td>\n",
       "    </tr>\n",
       "    <tr>\n",
       "      <th>2003</th>\n",
       "      <td>124.0</td>\n",
       "      <td>2843929.0</td>\n",
       "      <td>72.8</td>\n",
       "      <td>18.0</td>\n",
       "      <td>1</td>\n",
       "      <td>4.29</td>\n",
       "      <td>1</td>\n",
       "      <td>0.1</td>\n",
       "      <td>189.681557</td>\n",
       "      <td>339616.0</td>\n",
       "      <td>0.674</td>\n",
       "      <td>10.7</td>\n",
       "    </tr>\n",
       "    <tr>\n",
       "      <th>2004</th>\n",
       "      <td>146.0</td>\n",
       "      <td>2874991.0</td>\n",
       "      <td>73.0</td>\n",
       "      <td>17.0</td>\n",
       "      <td>1</td>\n",
       "      <td>4.54</td>\n",
       "      <td>1</td>\n",
       "      <td>0.1</td>\n",
       "      <td>2416.588235</td>\n",
       "      <td>326939.0</td>\n",
       "      <td>0.681</td>\n",
       "      <td>10.9</td>\n",
       "    </tr>\n",
       "  </tbody>\n",
       "</table>\n",
       "</div>"
      ],
      "text/plain": [
       "              Suicides number  Population2  Life expectancy  Adult Mortality  \\\n",
       "Country Year                                                                   \n",
       "Albania 2000             54.0    2796300.0             72.6             11.0   \n",
       "        2001            119.0    2799349.0             73.6             14.0   \n",
       "        2002            133.0    2818839.0             73.3             15.0   \n",
       "        2003            124.0    2843929.0             72.8             18.0   \n",
       "        2004            146.0    2874991.0             73.0             17.0   \n",
       "\n",
       "              Infant deaths  Alcohol  Under-five deaths  HIV/AIDS  \\\n",
       "Country Year                                                        \n",
       "Albania 2000              1     3.66                  1       0.1   \n",
       "        2001              1     4.25                  1       0.1   \n",
       "        2002              1     3.73                  1       0.1   \n",
       "        2003              1     4.29                  1       0.1   \n",
       "        2004              1     4.54                  1       0.1   \n",
       "\n",
       "                      GDP  Population  Income composition of resources  \\\n",
       "Country Year                                                             \n",
       "Albania 2000  1175.788981     38927.0                            0.656   \n",
       "        2001  1326.973390     36173.0                            0.662   \n",
       "        2002  1453.642777      3511.0                            0.670   \n",
       "        2003   189.681557    339616.0                            0.674   \n",
       "        2004  2416.588235    326939.0                            0.681   \n",
       "\n",
       "              Schooling  \n",
       "Country Year             \n",
       "Albania 2000       10.7  \n",
       "        2001       10.6  \n",
       "        2002       10.7  \n",
       "        2003       10.7  \n",
       "        2004       10.9  "
      ]
     },
     "execution_count": 17,
     "metadata": {},
     "output_type": "execute_result"
    }
   ],
   "source": [
    "mergedDf = suicideDf.merge(lifeExpDf, left_index = True, right_index = True)\n",
    "mergedDf.head()"
   ]
  },
  {
   "cell_type": "code",
   "execution_count": 18,
   "id": "9db9ee5a",
   "metadata": {},
   "outputs": [
    {
     "data": {
      "text/plain": [
       "(1424, 12)"
      ]
     },
     "execution_count": 18,
     "metadata": {},
     "output_type": "execute_result"
    }
   ],
   "source": [
    "mergedDf.shape"
   ]
  },
  {
   "cell_type": "code",
   "execution_count": 19,
   "id": "c9aa2b8d",
   "metadata": {},
   "outputs": [
    {
     "data": {
      "text/plain": [
       "Suicides number                    float64\n",
       "Population2                        float64\n",
       "Life expectancy                    float64\n",
       "Adult Mortality                    float64\n",
       "Infant deaths                        int64\n",
       "Alcohol                            float64\n",
       "Under-five deaths                    int64\n",
       "HIV/AIDS                           float64\n",
       "GDP                                float64\n",
       "Population                         float64\n",
       "Income composition of resources    float64\n",
       "Schooling                          float64\n",
       "dtype: object"
      ]
     },
     "execution_count": 19,
     "metadata": {},
     "output_type": "execute_result"
    }
   ],
   "source": [
    "mergedDf.dtypes"
   ]
  },
  {
   "cell_type": "code",
   "execution_count": 20,
   "id": "35953c61",
   "metadata": {},
   "outputs": [
    {
     "data": {
      "text/plain": [
       "Index(['2000', '2001', '2002', '2003', '2004', '2005', '2006', '2007', '2008',\n",
       "       '2009', '2010', '2012', '2013', '2014', '2015', '2011'],\n",
       "      dtype='object', name='Year')"
      ]
     },
     "execution_count": 20,
     "metadata": {},
     "output_type": "execute_result"
    }
   ],
   "source": [
    "mergedDf.index.unique(level='Year')"
   ]
  },
  {
   "cell_type": "markdown",
   "id": "bf189d79",
   "metadata": {},
   "source": [
    "#### Dealing with missing values"
   ]
  },
  {
   "cell_type": "code",
   "execution_count": 21,
   "id": "3c46fd81",
   "metadata": {},
   "outputs": [
    {
     "data": {
      "text/plain": [
       "Suicides number                      0\n",
       "Population2                          0\n",
       "Life expectancy                      1\n",
       "Adult Mortality                      1\n",
       "Infant deaths                        0\n",
       "Alcohol                             61\n",
       "Under-five deaths                    0\n",
       "HIV/AIDS                             0\n",
       "GDP                                139\n",
       "Population                         296\n",
       "Income composition of resources     48\n",
       "Schooling                           48\n",
       "dtype: int64"
      ]
     },
     "execution_count": 21,
     "metadata": {},
     "output_type": "execute_result"
    }
   ],
   "source": [
    "mergedDf.isnull().sum()"
   ]
  },
  {
   "cell_type": "markdown",
   "id": "c0374659",
   "metadata": {},
   "source": [
    "Take population from population2 if NA and drop population2"
   ]
  },
  {
   "cell_type": "code",
   "execution_count": 22,
   "id": "6ef6a317",
   "metadata": {},
   "outputs": [],
   "source": [
    "mergedDf['Population'] = mergedDf.apply(\n",
    "    lambda row: row['Population2'] if np.isnan(row['Population']) else row['Population'],\n",
    "    axis = 1\n",
    ")\n",
    "mergedDf = mergedDf.drop(columns=['Population2'])"
   ]
  },
  {
   "cell_type": "markdown",
   "id": "73e427d5",
   "metadata": {},
   "source": [
    "Drop rows where life expectancy is NA and population is zero"
   ]
  },
  {
   "cell_type": "code",
   "execution_count": 23,
   "id": "243f9470",
   "metadata": {},
   "outputs": [],
   "source": [
    "mergedDf = mergedDf.dropna(subset = ['Life expectancy'])\n",
    "mergedDf = mergedDf[(mergedDf['Population'] != 0)]"
   ]
  },
  {
   "cell_type": "markdown",
   "id": "57474fa6",
   "metadata": {},
   "source": [
    "Fill remaining missing values with forward values"
   ]
  },
  {
   "cell_type": "code",
   "execution_count": 24,
   "id": "34e7a09b",
   "metadata": {},
   "outputs": [
    {
     "data": {
      "text/plain": [
       "Suicides number                    0\n",
       "Life expectancy                    0\n",
       "Adult Mortality                    0\n",
       "Infant deaths                      0\n",
       "Alcohol                            0\n",
       "Under-five deaths                  0\n",
       "HIV/AIDS                           0\n",
       "GDP                                0\n",
       "Population                         0\n",
       "Income composition of resources    0\n",
       "Schooling                          0\n",
       "dtype: int64"
      ]
     },
     "execution_count": 24,
     "metadata": {},
     "output_type": "execute_result"
    }
   ],
   "source": [
    "mergedDf = mergedDf.fillna(method='ffill')\n",
    "mergedDf.isnull().sum()"
   ]
  },
  {
   "cell_type": "code",
   "execution_count": 25,
   "id": "2692248e",
   "metadata": {},
   "outputs": [],
   "source": [
    "# Export final dataset\n",
    "mergedDf.to_csv('../10_Data/30_merged_dataset_v00_final.csv', index = True)"
   ]
  },
  {
   "cell_type": "code",
   "execution_count": null,
   "id": "22458304",
   "metadata": {},
   "outputs": [],
   "source": []
  }
 ],
 "metadata": {
  "kernelspec": {
   "display_name": "Python 3",
   "language": "python",
   "name": "python3"
  },
  "language_info": {
   "codemirror_mode": {
    "name": "ipython",
    "version": 3
   },
   "file_extension": ".py",
   "mimetype": "text/x-python",
   "name": "python",
   "nbconvert_exporter": "python",
   "pygments_lexer": "ipython3",
   "version": "3.7.9"
  }
 },
 "nbformat": 4,
 "nbformat_minor": 5
}
